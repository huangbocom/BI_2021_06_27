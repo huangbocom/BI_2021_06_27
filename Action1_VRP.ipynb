{
 "cells": [
  {
   "cell_type": "code",
   "execution_count": 26,
   "metadata": {},
   "outputs": [],
   "source": [
    "import pandas as pd\n",
    "from ortools.constraint_solver import routing_enums_pb2,pywrapcp\n",
    "\n",
    "class tsp_calc(object):\n",
    "    def __init__(self, city_names=None):\n",
    "        # 城市名称\n",
    "        self.df = pd.read_excel('./cities.xlsx')\n",
    "        self.all_city = self.df['name'].values\n",
    "        if city_names is not None:\n",
    "            self.city_names = city_names\n",
    "            self.df = self.df[self.df['name'].isin(city_names)]\n",
    "        else:\n",
    "            self.city_names = self.all_city\n",
    "            \n",
    "    def create_data_model_tsp(self):\n",
    "        data = {}\n",
    "        temp = pd.read_excel('./distance.xlsx', index_col=0)\n",
    "        # city_names筛选\n",
    "        temp = temp[(temp.index.isin(self.city_names))][self.city_names]\n",
    "        print(temp)\n",
    "        data['distance_matrix'] = temp.values/1000\n",
    "        \n",
    "        data['num_vehicles'] = 1 \n",
    "        data['depot'] = 0 \n",
    "        return data\n",
    "    \n",
    "    # 结果\n",
    "    def get_solution_tsp(self,manager, routing, solution):\n",
    "        print('总行驶里程: {} 公里'.format(solution.ObjectiveValue()))\n",
    "        index = routing.Start(0)\n",
    "        route = []\n",
    "        route_distance = 0\n",
    "        while not routing.IsEnd(index):\n",
    "            index_show = manager.IndexToNode(index)\n",
    "            # 添加route\n",
    "            route.append(index_show)\n",
    "            previous_index = index\n",
    "            # 下一个节点\n",
    "            index = solution.Value(routing.NextVar(index))\n",
    "            # \n",
    "            route_distance += routing.GetArcCostForVehicle(previous_index, index, 0)\n",
    "        return route,route_distance\n",
    "    \n",
    "    def work_tsp(self):\n",
    "        # step1，初始三个参数字典\n",
    "        data = self.create_data_model_tsp()\n",
    "        # step2，tsp_size（城市）, num_vehicles（车）, depot（原点）\n",
    "        manager = pywrapcp.RoutingIndexManager(len(data['distance_matrix']),\n",
    "                                               data['num_vehicles'], data['depot'])\n",
    "\n",
    "        # step3，.\n",
    "        routing = pywrapcp.RoutingModel(manager)\n",
    "\n",
    "        def distance_callback(from_index, to_index):\n",
    "            from_node = manager.IndexToNode(from_index)\n",
    "            to_node = manager.IndexToNode(to_index)\n",
    "            return data['distance_matrix'][from_node][to_node]\n",
    "\n",
    "        transit_callback_index = routing.RegisterTransitCallback(distance_callback)\n",
    "\n",
    "        routing.SetArcCostEvaluatorOfAllVehicles(transit_callback_index)\n",
    "\n",
    "        search_parameters = pywrapcp.DefaultRoutingSearchParameters()\n",
    "        search_parameters.first_solution_strategy = (\n",
    "            routing_enums_pb2.FirstSolutionStrategy.PATH_CHEAPEST_ARC)\n",
    "\n",
    "        # 求解路径规划\n",
    "        solution = routing.SolveWithParameters(search_parameters)\n",
    "        # 输出\n",
    "        route, route_distance = self.get_solution_tsp(manager,routing,solution)\n",
    "        return route,route_distance"
   ]
  },
  {
   "cell_type": "code",
   "execution_count": 20,
   "metadata": {},
   "outputs": [
    {
     "name": "stdout",
     "output_type": "stream",
     "text": [
      "总行驶里程: 19799 公里\n",
      "[0, 6, 22, 21, 23, 24, 26, 27, 25, 12, 32, 11, 31, 30, 10, 9, 8, 15, 13, 28, 29, 14, 20, 17, 18, 19, 7, 5, 16, 1, 4, 2, 3]\n",
      "19799\n"
     ]
    }
   ],
   "source": [
    "model = tsp_calc()\n",
    "route, route_distance = model.work_tsp()\n",
    "print(route)\n",
    "print(route_distance)"
   ]
  },
  {
   "cell_type": "code",
   "execution_count": 27,
   "metadata": {},
   "outputs": [
    {
     "name": "stdout",
     "output_type": "stream",
     "text": [
      "         北京      天津       南京\n",
      "北京        0  122476  1002497\n",
      "天津   122476       0   935319\n",
      "南京  1002497  935319        0\n",
      "         北京      天津       南京\n",
      "北京        0  122476  1002497\n",
      "天津   122476       0   935319\n",
      "南京  1002497  935319        0\n",
      "总行驶里程: 2059 公里\n",
      "[0, 1, 2]\n",
      "2059\n"
     ]
    }
   ],
   "source": [
    "city_names = ['北京', '天津', '南京']\n",
    "model = tsp_calc(city_names = city_names)\n",
    "model.create_data_model_tsp()\n",
    "route, route_distance = model.work_tsp()\n",
    "print(route)\n",
    "print(route_distance)"
   ]
  }
 ],
 "metadata": {
  "kernelspec": {
   "display_name": "Python 3",
   "language": "python",
   "name": "python3"
  },
  "language_info": {
   "codemirror_mode": {
    "name": "ipython",
    "version": 3
   },
   "file_extension": ".py",
   "mimetype": "text/x-python",
   "name": "python",
   "nbconvert_exporter": "python",
   "pygments_lexer": "ipython3",
   "version": "3.8.3"
  }
 },
 "nbformat": 4,
 "nbformat_minor": 4
}
